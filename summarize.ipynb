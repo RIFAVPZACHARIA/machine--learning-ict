{
  "cells": [
    {
      "cell_type": "markdown",
      "metadata": {
        "id": "view-in-github",
        "colab_type": "text"
      },
      "source": [
        "<a href=\"https://colab.research.google.com/github/RIFAVPZACHARIA/machine--learning-ict/blob/main/summarize.ipynb\" target=\"_parent\"><img src=\"https://colab.research.google.com/assets/colab-badge.svg\" alt=\"Open In Colab\"/></a>"
      ]
    },
    {
      "cell_type": "code",
      "source": [
        "import nltk\n",
        "from nltk.corpus import stopwords\n",
        "from nltk.tokenize import word_tokenize, sent_tokenize\n",
        "from nltk.stem import PorterStemmer\n",
        "from sklearn.feature_extraction.text import TfidfVectorizer\n",
        "\n",
        "nltk.download('punkt')\n",
        "nltk.download('stopwords')\n",
        "\n",
        "def preprocess_text(text):\n",
        "    words = word_tokenize(text.lower())\n",
        "    stop_words = set(stopwords.words('english'))\n",
        "    words = [word for word in words if word.isalnum() and word not in stop_words]\n",
        "\n",
        "    stemmer = PorterStemmer()\n",
        "    words = [stemmer.stem(word) for word in words]\n",
        "\n",
        "    return ' '.join(words)\n",
        "\n",
        "def text_summarizer(text, num_sentences=2):\n",
        "    preprocessed_text = preprocess_text(text)\n",
        "\n",
        "    sentences = sent_tokenize(preprocessed_text)\n",
        "\n",
        "    tfidf_vectorizer = TfidfVectorizer()\n",
        "    tfidf_matrix = tfidf_vectorizer.fit_transform(sentences)\n",
        "\n",
        "    sentence_scores = tfidf_matrix.toarray().sum(axis=1)\n",
        "\n",
        "    top_sentence_indices = sentence_scores.argsort()[-num_sentences:][::-1]\n",
        "\n",
        "    top_sentence_indices.sort()\n",
        "\n",
        "    summarized_text = ' '.join([sentences[i] for i in top_sentence_indices])\n",
        "\n",
        "    return summarized_text\n",
        "user_input = input(\"Enter the text you want to summarize:\\n\")\n",
        "\n",
        "summary = text_summarizer(user_input)\n",
        "print(\"\\nSummary:\")\n",
        "print(summary)"
      ],
      "metadata": {
        "id": "-vMKM3xrZyD4",
        "outputId": "ba44f4eb-1bdf-47f9-98fc-33a4f18c5f71",
        "colab": {
          "base_uri": "https://localhost:8080/"
        }
      },
      "execution_count": 1,
      "outputs": [
        {
          "output_type": "stream",
          "name": "stderr",
          "text": [
            "[nltk_data] Downloading package punkt to /root/nltk_data...\n",
            "[nltk_data]   Unzipping tokenizers/punkt.zip.\n",
            "[nltk_data] Downloading package stopwords to /root/nltk_data...\n",
            "[nltk_data]   Unzipping corpora/stopwords.zip.\n"
          ]
        },
        {
          "output_type": "stream",
          "name": "stdout",
          "text": [
            "Enter the text you want to summarize:\n",
            "Machine learning is a subfield of artificial intelligence, which is broadly defined as the capability of a machine to imitate intelligent human behavior. Artificial intelligence systems are used to perform complex tasks in a way that is similar to how humans solve problems.  The goal of AI is to create computer models that exhibit “intelligent behaviors” like humans, according to Boris Katz, a principal research scientist and head of the InfoLab Group at CSAIL. This means machines that can recognize a visual scene, understand a text written in natural language, or perform an action in the physical world.\n",
            "\n",
            "Summary:\n",
            "machin learn subfield artifici intellig broadli defin capabl machin imit intellig human behavior artifici intellig system use perform complex task way similar human solv problem goal ai creat comput model exhibit intellig behavior like human accord bori katz princip research scientist head infolab group csail mean machin recogn visual scene understand text written natur languag perform action physic world\n"
          ]
        }
      ]
    }
  ],
  "metadata": {
    "colab": {
      "name": "Welcome To Colaboratory",
      "toc_visible": true,
      "provenance": [],
      "include_colab_link": true
    },
    "kernelspec": {
      "display_name": "Python 3",
      "name": "python3"
    }
  },
  "nbformat": 4,
  "nbformat_minor": 0
}
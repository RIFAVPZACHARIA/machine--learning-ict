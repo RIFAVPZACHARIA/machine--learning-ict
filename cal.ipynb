{
  "cells": [
    {
      "cell_type": "markdown",
      "metadata": {
        "id": "view-in-github",
        "colab_type": "text"
      },
      "source": [
        "<a href=\"https://colab.research.google.com/github/RIFAVPZACHARIA/machine--learning-ict/blob/main/Welcome_To_Colaboratory.ipynb\" target=\"_parent\"><img src=\"https://colab.research.google.com/assets/colab-badge.svg\" alt=\"Open In Colab\"/></a>"
      ]
    },
    {
      "cell_type": "code",
      "source": [],
      "metadata": {
        "id": "YdwCXfDJz4Zd"
      },
      "execution_count": null,
      "outputs": []
    },
    {
      "cell_type": "code",
      "source": [
        "class calculator():\n",
        "  def opn(self,a):\n",
        "    return eval(a)\n",
        "calc=calculator()\n",
        "print(\"calculator\")\n",
        "op=input(\"enter the operation to perform\")\n",
        "\n",
        "x=calc.opn(op)\n",
        "print(\"result=\",str(x))"
      ],
      "metadata": {
        "colab": {
          "base_uri": "https://localhost:8080/"
        },
        "id": "qw4jo724pNHM",
        "outputId": "4cf2657f-c850-4e0f-bc8c-1d80983a9bf6"
      },
      "execution_count": 9,
      "outputs": [
        {
          "output_type": "stream",
          "name": "stdout",
          "text": [
            "calculator\n",
            "enter the operation to perform2+4-5*10\n",
            "result= -44\n"
          ]
        }
      ]
    }
  ],
  "metadata": {
    "colab": {
      "name": "Welcome To Colaboratory",
      "toc_visible": true,
      "provenance": [],
      "include_colab_link": true
    },
    "kernelspec": {
      "display_name": "Python 3",
      "name": "python3"
    }
  },
  "nbformat": 4,
  "nbformat_minor": 0
}

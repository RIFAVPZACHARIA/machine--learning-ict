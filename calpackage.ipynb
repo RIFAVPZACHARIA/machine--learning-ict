{
  "cells": [
    {
      "cell_type": "markdown",
      "metadata": {
        "id": "view-in-github",
        "colab_type": "text"
      },
      "source": [
        "<a href=\"https://colab.research.google.com/github/RIFAVPZACHARIA/machine--learning-ict/blob/main/calpackage.ipynb\" target=\"_parent\"><img src=\"https://colab.research.google.com/assets/colab-badge.svg\" alt=\"Open In Colab\"/></a>"
      ]
    },
    {
      "cell_type": "code",
      "source": [],
      "metadata": {
        "id": "YdwCXfDJz4Zd"
      },
      "execution_count": null,
      "outputs": []
    },
    {
      "cell_type": "code",
      "source": [
        "class calculator():\n",
        "  def opn(self,a):\n",
        "    return eval(a)\n",
        "calc=calculator()\n",
        "print(\"calculator\")\n",
        "op=input(\"enter the operation to perform\")\n",
        "\n",
        "x=calc.opn(op)\n",
        "print(\"result=\",str(x))"
      ],
      "metadata": {
        "colab": {
          "base_uri": "https://localhost:8080/"
        },
        "id": "qw4jo724pNHM",
        "outputId": "4cf2657f-c850-4e0f-bc8c-1d80983a9bf6"
      },
      "execution_count": 9,
      "outputs": [
        {
          "output_type": "stream",
          "name": "stdout",
          "text": [
            "calculator\n",
            "enter the operation to perform2+4-5*10\n",
            "result= -44\n"
          ]
        }
      ]
    },
    {
      "cell_type": "code",
      "source": [
        "import sympy\n",
        "\n",
        "class Calculator:\n",
        "    def _init_(self):\n",
        "        pass\n",
        "\n",
        "    def calculate(self, expression):\n",
        "        try:\n",
        "            result = sympy.sympify(expression)\n",
        "            return result.evalf() if isinstance(result, sympy.Basic) else result\n",
        "        except Exception as e:\n",
        "            return f\"Error: {e}\"\n",
        "\n",
        "    def run(self):\n",
        "        expression = input(\"Enter a mathematical expression: \")\n",
        "        result = self.calculate(expression)\n",
        "        print(\"Result:\", result)\n",
        "\n",
        "\n",
        "    calculator = Calculator()\n",
        "    calculator.run()"
      ],
      "metadata": {
        "id": "5QvoaFEZ3LKE",
        "outputId": "ac722d56-0955-41ea-d83b-5fd8a599de40",
        "colab": {
          "base_uri": "https://localhost:8080/"
        }
      },
      "execution_count": 17,
      "outputs": [
        {
          "output_type": "stream",
          "name": "stdout",
          "text": [
            "Enter a mathematical expression: 2+2\n",
            "Result: 4.00000000000000\n"
          ]
        }
      ]
    }
  ],
  "metadata": {
    "colab": {
      "name": "Welcome To Colaboratory",
      "provenance": [],
      "include_colab_link": true
    },
    "kernelspec": {
      "display_name": "Python 3",
      "name": "python3"
    }
  },
  "nbformat": 4,
  "nbformat_minor": 0
}